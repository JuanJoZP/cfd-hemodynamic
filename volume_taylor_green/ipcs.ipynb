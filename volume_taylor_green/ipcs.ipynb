{
 "cells": [
  {
   "cell_type": "code",
   "execution_count": 1,
   "id": "5305a145-22cd-4243-8d8a-a782af7166e7",
   "metadata": {},
   "outputs": [],
   "source": [
    "#https://jsdokken.com/dolfinx-tutorial/chapter2/navierstokes.html#variational-formulation\n",
    "\n",
    "from dolfinx import mesh, fem, io\n",
    "import ufl\n",
    "from mpi4py import MPI\n",
    "from petsc4py import PETSc\n",
    "import numpy as np\n",
    "\n",
    "T = 0.1\n",
    "num_steps = 100\n",
    "n_cells = 32"
   ]
  },
  {
   "cell_type": "code",
   "execution_count": 2,
   "id": "665e992d-dc32-46e8-8620-869a06d7d48f",
   "metadata": {},
   "outputs": [],
   "source": [
    "domain = mesh.create_unit_cube(MPI.COMM_WORLD, n_cells, n_cells, n_cells) \n",
    "velocity_function_space = fem.functionspace(domain, (\"Lagrange\", 2, (3,))) \n",
    "pressure_function_space = fem.functionspace(domain, (\"Lagrange\", 1))"
   ]
  },
  {
   "cell_type": "code",
   "execution_count": 3,
   "id": "bc2a607e-af5d-4090-8156-a438f344a040",
   "metadata": {},
   "outputs": [],
   "source": [
    "f = fem.Constant(domain, PETSc.ScalarType((0,0,0)))\n",
    "dt = fem.Constant(domain, T/num_steps)\n",
    "mu = fem.Constant(domain, PETSc.ScalarType(1/50)) # Re = 50\n",
    "rho = fem.Constant(domain, PETSc.ScalarType(1))"
   ]
  },
  {
   "cell_type": "code",
   "execution_count": 4,
   "id": "e1ca18a2-58cb-4c2e-9889-23e2cdbfad27",
   "metadata": {},
   "outputs": [],
   "source": [
    "# solución analitica sacada de: https://www.ljll.fr/~frey/papers/Navier-Stokes/Ethier%20C.R.,%20Steinman%20D.A.,%20Exact%20fully%203d%20Navier-Stokes%20solutions%20for%20benchmarking.pdf\n",
    "a = np.pi/4\n",
    "d = np.pi/2\n",
    "\n",
    "def u_analytic(x, y, z, t):\n",
    "    return np.vstack((-a*(np.exp(a*x)*np.sin(a*y + d*z) + np.exp(a*z)*np.cos(a*x + d*y))*np.exp(-1*d*d*t),\n",
    "              -a*(np.exp(a*y)*np.sin(a*z + d*x) + np.exp(a*x)*np.cos(a*y + d*z))*np.exp(-1*d*d*t),\n",
    "              -a*(np.exp(a*z)*np.sin(a*x + d*y) + np.exp(a*y)*np.cos(a*z + d*x))*np.exp(-1*d*d*t)\n",
    "                     ))\n",
    "\n",
    "def p_analytic(x, y, z, t):\n",
    "    return -1*a*a*(1/2)*(np.exp(2*a*x) + np.exp(2*a*y) + np.exp(2*a*z) + 2*np.sin(a*x + d*y)*np.cos(a*z + d*x)*np.exp(a*y + a*z) \\\n",
    "                        + 2*np.sin(a*y + d*z)*np.cos(a*x + d*y)*np.exp(a*z + a*x) + 2*np.sin(a*z + d*x)*np.cos(a*y + d*z)*np.exp(a*x + a*y)) \\\n",
    "            *np.exp(-2*d*d*t)\n",
    "\n",
    "u_sol_analytic = fem.Function(velocity_function_space)\n",
    "P_sol_analytic = fem.Function(pressure_function_space)"
   ]
  },
  {
   "cell_type": "code",
   "execution_count": 5,
   "id": "14e131e7-b38f-490f-b262-e0f80135ea32",
   "metadata": {},
   "outputs": [],
   "source": [
    "u = ufl.TrialFunction(velocity_function_space)\n",
    "p = ufl.TrialFunction(pressure_function_space)\n",
    "\n",
    "v = ufl.TestFunction(velocity_function_space)\n",
    "q = ufl.TestFunction(pressure_function_space)\n",
    "\n",
    "u_sol = fem.Function(velocity_function_space) # guarda la solucion del tiempo actual\n",
    "u_prev = fem.Function(velocity_function_space) # guarda la solucion del tiempo anterior\n",
    "p_sol = fem.Function(pressure_function_space) \n",
    "p_prev = fem.Function(pressure_function_space)\n",
    "\n",
    "# interpolar la condicion inicial\n",
    "u_prev.interpolate(lambda x: u_analytic(*x, 0))\n",
    "p_prev.interpolate(lambda x: p_analytic(*x, 0))"
   ]
  },
  {
   "cell_type": "code",
   "execution_count": 6,
   "id": "d3d790de-8211-44a2-a25c-14a2bcbdde43",
   "metadata": {},
   "outputs": [],
   "source": [
    "# Dirichlet BC en todas las fronteras, dada por la solución analítica\n",
    "domain.topology.create_connectivity(domain.topology.dim-1, domain.topology.dim)\n",
    "boundary_facets = mesh.exterior_facet_indices(domain.topology) # acá hay un tema con los procesos y es que devuelve los indices locales (del proceso)\n",
    "dofs_boundary_u = fem.locate_dofs_topological(velocity_function_space, domain.topology.dim-1, boundary_facets)\n",
    "dofs_boundary_p = fem.locate_dofs_topological(pressure_function_space, domain.topology.dim-1, boundary_facets)\n",
    "\n",
    "u_bc = fem.Function(velocity_function_space)\n",
    "p_bc = fem.Function(pressure_function_space)"
   ]
  },
  {
   "cell_type": "code",
   "execution_count": 7,
   "id": "07068291-e306-406d-b5cd-0b4c44b8eab9",
   "metadata": {},
   "outputs": [],
   "source": [
    "from ufl import FacetNormal, dx, ds, dot, inner, sym, nabla_grad, Identity, lhs, rhs, div\n",
    "\n",
    "u_midpoint = 0.5*(u_prev + u)\n",
    "n = FacetNormal(domain)\n",
    "\n",
    "def epsilon(u):\n",
    "    return sym(nabla_grad(u))\n",
    "\n",
    "def sigma(u, p):\n",
    "    return 2*mu*epsilon(u) - p*Identity(len(u))\n",
    "\n",
    "# step 1\n",
    "form1 = rho*dot((u - u_prev) / dt, v)*dx \\\n",
    "      + rho*dot(dot(u_prev, nabla_grad(u_prev)), v)*dx \\\n",
    "      + inner(sigma(u_midpoint, p_prev), epsilon(v))*dx \\\n",
    "      + dot(p_prev*n, v)*ds - dot(mu*nabla_grad(u_midpoint)*n, v)*ds \\\n",
    "      - dot(f, v)*dx\n",
    "bilinear1 = lhs(form1)\n",
    "linear1 = rhs(form1)\n",
    "\n",
    "# step 2\n",
    "form2 = dot(nabla_grad(p), nabla_grad(q))*dx \\\n",
    "      - dot(nabla_grad(p_prev), nabla_grad(q))*dx \\\n",
    "      + (rho/dt)*div(u_sol)*q*dx\n",
    "bilinear2 = lhs(form2)\n",
    "linear2 = rhs(form2)\n",
    "\n",
    "# step 3\n",
    "form3 = rho*dot((u - u_sol), v)*dx \\\n",
    "      + dt*dot(nabla_grad(p_sol - p_prev), v)*dx\n",
    "bilinear3 = lhs(form3)\n",
    "linear3 = rhs(form3)"
   ]
  },
  {
   "cell_type": "code",
   "execution_count": null,
   "id": "c99643df-be66-4459-8384-8d4dfff74b67",
   "metadata": {},
   "outputs": [
    {
     "data": {
      "application/vnd.jupyter.widget-view+json": {
       "model_id": "8dcaa30017ef4c5987527d1ae914fc84",
       "version_major": 2,
       "version_minor": 0
      },
      "text/plain": [
       "Resolviendo navier-stokes:   0%|          | 0/100 [00:00<?, ?it/s]"
      ]
     },
     "metadata": {},
     "output_type": "display_data"
    }
   ],
   "source": [
    "from dolfinx.fem.petsc import LinearProblem\n",
    "from dolfinx.fem import assemble_scalar\n",
    "from tqdm.notebook import tqdm\n",
    "from datetime import date\n",
    "\n",
    "\n",
    "t = 0\n",
    "i = 0\n",
    "u_file = io.VTXWriter(domain.comm, f\"{date.today()}/velocity.bp\", u_sol)\n",
    "p_file = io.VTXWriter(domain.comm, f\"{date.today()}/pressure.bp\", p_sol)\n",
    "u_file.write(t)\n",
    "p_file.write(t)\n",
    "\n",
    "comm = u_sol.function_space.mesh.comm\n",
    "progress = tqdm(desc=\"Resolviendo navier-stokes\", total=num_steps)\n",
    "\n",
    "with open(f\"{date.today()}/error.txt\", \"w\") as error_log:\n",
    "    for n in range(num_steps):\n",
    "        progress.update()\n",
    "        t += dt.value\n",
    "        i += 1\n",
    "    \n",
    "        u_bc.interpolate(lambda x: u_analytic(*x, t))\n",
    "        p_bc.interpolate(lambda x: p_analytic(*x, t))\n",
    "        bc_u  = fem.dirichletbc(u_bc, dofs_boundary_u)\n",
    "        bc_p  = fem.dirichletbc(p_bc, dofs_boundary_p)\n",
    "        \n",
    "        problem1 = LinearProblem(bilinear1, linear1, [bc_u], u_sol)\n",
    "        problem1.solve()\n",
    "    \n",
    "        problem2 = LinearProblem(bilinear2, linear2, [bc_p], p_sol)\n",
    "        problem2.solve()\n",
    "    \n",
    "        problem3 = LinearProblem(bilinear3, linear3, [bc_u], u_sol)\n",
    "        problem3.solve()\n",
    "    \n",
    "        u_file.write(t)\n",
    "        p_file.write(t)\n",
    "\n",
    "        u_prev.x.array[:] = u_sol.x.array\n",
    "        p_prev.x.array[:] = p_sol.x.array\n",
    "    \n",
    "        if i % 3 == 0:\n",
    "            # error relativo: |u_sol - u_analitica| / |u_analitica|\n",
    "            u_sol_analytic.interpolate(lambda x: u_analytic(*x, t))\n",
    "            \n",
    "            # con norma L_inf\n",
    "            #error = np.abs(u_sol_analytic.x.array - u_sol.x.array).max()/np.abs(u_sol_analytic.x.array).max()\n",
    "    \n",
    "            # con norma L_2\n",
    "            error_abs_integral = fem.form(inner(u_sol_analytic - u_sol, u_sol_analytic - u_sol) * dx)\n",
    "            error_abs = np.sqrt(comm.allreduce(assemble_scalar(error_abs_integral), op=MPI.SUM))\n",
    "            norm_u_analytic_integral = fem.form(inner(u_sol_analytic, u_sol_analytic) * dx)\n",
    "            norm_u_analytic = np.sqrt(comm.allreduce(assemble_scalar(norm_u_analytic_integral), op=MPI.SUM))\n",
    "            error = error_abs / norm_u_analytic\n",
    "            \n",
    "            error_log.write('t = %.2f: error = %.3g' % (t, error) + \"\\n\")\n",
    "\n",
    "progress.close()\n",
    "u_file.close()\n",
    "p_file.close()"
   ]
  }
 ],
 "metadata": {
  "kernelspec": {
   "display_name": "Python 3 (ipykernel)",
   "language": "python",
   "name": "python3"
  },
  "language_info": {
   "codemirror_mode": {
    "name": "ipython",
    "version": 3
   },
   "file_extension": ".py",
   "mimetype": "text/x-python",
   "name": "python",
   "nbconvert_exporter": "python",
   "pygments_lexer": "ipython3",
   "version": "3.12.3"
  }
 },
 "nbformat": 4,
 "nbformat_minor": 5
}

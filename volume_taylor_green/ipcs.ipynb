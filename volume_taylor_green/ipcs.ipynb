{
 "cells": [
  {
   "cell_type": "markdown",
   "id": "1d26f4f3-2d68-46fa-a6d9-d52cfcc22527",
   "metadata": {},
   "source": [
    "# Benchmark Taylor green"
   ]
  },
  {
   "cell_type": "code",
   "execution_count": 1,
   "id": "5305a145-22cd-4243-8d8a-a782af7166e7",
   "metadata": {},
   "outputs": [],
   "source": [
    "from dolfinx import mesh, fem, io\n",
    "from mpi4py import MPI\n",
    "from petsc4py import PETSc\n",
    "import numpy as np"
   ]
  },
  {
   "cell_type": "code",
   "execution_count": 2,
   "id": "974b000f-7bdb-4085-ac52-e0f819f1fb07",
   "metadata": {},
   "outputs": [],
   "source": [
    "solver_name = \"solver2\"\n",
    "T = 0.1\n",
    "num_steps = 100\n",
    "n_cells = 32\n",
    "domain = mesh.create_unit_cube(MPI.COMM_WORLD, n_cells, n_cells, n_cells) \n",
    "\n",
    "f = (0,0,0)\n",
    "dt = T/num_steps\n",
    "mu = 1/50 # Re = 50\n",
    "rho = 1"
   ]
  },
  {
   "cell_type": "code",
   "execution_count": 3,
   "id": "e1ca18a2-58cb-4c2e-9889-23e2cdbfad27",
   "metadata": {},
   "outputs": [],
   "source": [
    "# solución analitica de: https://www.ljll.fr/~frey/papers/Navier-Stokes/Ethier%20C.R.,%20Steinman%20D.A.,%20Exact%20fully%203d%20Navier-Stokes%20solutions%20for%20benchmarking.pdf\n",
    "a = np.pi/4\n",
    "d = np.pi/2\n",
    "\n",
    "def u_analytic(x, y, z, t):\n",
    "    return np.vstack((-a*(np.exp(a*x)*np.sin(a*y + d*z) + np.exp(a*z)*np.cos(a*x + d*y))*np.exp(-1*d*d*t),\n",
    "              -a*(np.exp(a*y)*np.sin(a*z + d*x) + np.exp(a*x)*np.cos(a*y + d*z))*np.exp(-1*d*d*t),\n",
    "              -a*(np.exp(a*z)*np.sin(a*x + d*y) + np.exp(a*y)*np.cos(a*z + d*x))*np.exp(-1*d*d*t)\n",
    "                     ))\n",
    "\n",
    "def p_analytic(x, y, z, t):\n",
    "    return -1*a*a*(1/2)*(np.exp(2*a*x) + np.exp(2*a*y) + np.exp(2*a*z) + 2*np.sin(a*x + d*y)*np.cos(a*z + d*x)*np.exp(a*y + a*z) \\\n",
    "                        + 2*np.sin(a*y + d*z)*np.cos(a*x + d*y)*np.exp(a*z + a*x) + 2*np.sin(a*z + d*x)*np.cos(a*y + d*z)*np.exp(a*x + a*y)) \\\n",
    "            *np.exp(-2*d*d*t)"
   ]
  },
  {
   "cell_type": "code",
   "execution_count": 4,
   "id": "14e131e7-b38f-490f-b262-e0f80135ea32",
   "metadata": {},
   "outputs": [],
   "source": [
    "import sys\n",
    "import os\n",
    "from importlib import import_module\n",
    "sys.path.append(os.path.dirname(os.getcwd()))\n",
    "SolverIPCS = getattr(import_module(f\"solvers.{solver_name}\"), \"SolverIPCS\")\n",
    "\n",
    "solver = SolverIPCS(domain, dt, rho, mu, f, lambda x: u_analytic(*x, 0))\n",
    "\n",
    "u_sol_analytic = fem.Function(solver.velocity_space)\n",
    "P_sol_analytic = fem.Function(solver.pressure_space)"
   ]
  },
  {
   "cell_type": "code",
   "execution_count": 5,
   "id": "d3d790de-8211-44a2-a25c-14a2bcbdde43",
   "metadata": {},
   "outputs": [],
   "source": [
    "# Dirichlet BC en todas las fronteras, dada por la solución analítica\n",
    "domain.topology.create_connectivity(domain.topology.dim-1, domain.topology.dim)\n",
    "boundary_facets = mesh.exterior_facet_indices(domain.topology) # acá hay un tema con los procesos y es que devuelve los indices locales (del proceso)\n",
    "dofs_boundary_u = fem.locate_dofs_topological(solver.velocity_space, domain.topology.dim-1, boundary_facets)\n",
    "dofs_boundary_p = fem.locate_dofs_topological(solver.pressure_space, domain.topology.dim-1, boundary_facets)\n",
    "\n",
    "u_bc = fem.Function(solver.velocity_space)\n",
    "p_bc = fem.Function(solver.pressure_space)\n",
    "bcu  = [fem.dirichletbc(u_bc, dofs_boundary_u)]\n",
    "bcp  = [fem.dirichletbc(p_bc, dofs_boundary_p)]"
   ]
  },
  {
   "cell_type": "code",
   "execution_count": 6,
   "id": "2b68d1e0-3915-4e80-863c-b0c5e64e8e52",
   "metadata": {},
   "outputs": [],
   "source": [
    "solver.assembleTimeIndependent(bcu, bcp)"
   ]
  },
  {
   "cell_type": "code",
   "execution_count": 7,
   "id": "25e19d71-25ac-4ee7-bdaa-fbd865a2f97a",
   "metadata": {},
   "outputs": [],
   "source": [
    "# !! para debugear y checkear valores de la funcion en un punto\n",
    "from dolfinx.geometry import bb_tree, compute_collisions_points, compute_colliding_cells\n",
    "\n",
    "tree = bb_tree(domain, domain.geometry.dim)\n",
    "points = np.array([[0, 0, 0], [1, 0, 0], [1, 1, 1]])\n",
    "cell_candidates = compute_collisions_points(tree, points)\n",
    "colliding_cells = compute_colliding_cells(domain, cell_candidates, points)\n",
    "cells = [] \n",
    "cells.append(colliding_cells.links(0)[0])\n",
    "cells.append(colliding_cells.links(1)[0])\n",
    "cells.append(colliding_cells.links(2)[0])"
   ]
  },
  {
   "cell_type": "code",
   "execution_count": 8,
   "id": "f71728cf-ca7a-410a-82e9-68300ea688e0",
   "metadata": {},
   "outputs": [],
   "source": [
    "def get_tqdm():\n",
    "    try:\n",
    "        # Check if inside Jupyter notebook\n",
    "        from IPython import get_ipython\n",
    "        shell = get_ipython().__class__.__name__\n",
    "        if shell in [\"ZMQInteractiveShell\"]:\n",
    "            from tqdm.notebook import tqdm as notebook_tqdm\n",
    "            return notebook_tqdm\n",
    "    except:\n",
    "        pass\n",
    "    from tqdm import tqdm  # fallback for scripts\n",
    "    return tqdm"
   ]
  },
  {
   "cell_type": "code",
   "execution_count": null,
   "id": "c99643df-be66-4459-8384-8d4dfff74b67",
   "metadata": {},
   "outputs": [
    {
     "data": {
      "application/vnd.jupyter.widget-view+json": {
       "model_id": "188e39c41e61471ca2040b671af86c3c",
       "version_major": 2,
       "version_minor": 0
      },
      "text/plain": [
       "Resolviendo navier-stokes:   0%|          | 0/100 [00:00<?, ?it/s]"
      ]
     },
     "metadata": {},
     "output_type": "display_data"
    }
   ],
   "source": [
    "tqdm = get_tqdm()\n",
    "from dolfinx.fem import assemble_scalar\n",
    "from ufl import inner, dx\n",
    "from datetime import datetime, timezone, timedelta\n",
    "from dolfinx.geometry import bb_tree, compute_collisions_points, compute_colliding_cells\n",
    "\n",
    "t = 0\n",
    "i = 0\n",
    "progress = tqdm(desc=\"Resolviendo navier-stokes\", total=num_steps) if domain.comm.rank == 0 else None\n",
    "date = datetime.now(tz=timezone(-timedelta(hours=5))).isoformat(timespec='seconds') if domain.comm.rank == 0 else None\n",
    "date = domain.comm.bcast(date, root=0)\n",
    "u_file = io.VTXWriter(domain.comm, f\"{solver_name}/{date}/velocity.bp\", solver.u_sol)\n",
    "p_file = io.VTXWriter(domain.comm, f\"{solver_name}/{date}/pressure.bp\", solver.p_sol)\n",
    "error_log = open(f\"{solver_name}/{date}/error.txt\", \"w\") if domain.comm.rank == 0 else None\n",
    "u_file.write(t)\n",
    "p_file.write(t)\n",
    "\n",
    "for n in range(num_steps):\n",
    "    if progress:\n",
    "        progress.update()\n",
    "        \n",
    "    t += dt\n",
    "    i += 1\n",
    "\n",
    "    u_bc.interpolate(lambda x: u_analytic(*x, t))\n",
    "    p_bc.interpolate(lambda x: p_analytic(*x, t))\n",
    "    \n",
    "    solver.solveStep(bcu, bcp)\n",
    "    \n",
    "    u_file.write(t)\n",
    "    p_file.write(t)\n",
    "\n",
    "    # error relativo: |u_sol - u_analitica| / |u_analitica|\n",
    "    u_sol_analytic.interpolate(lambda x: u_analytic(*x, t))\n",
    "\n",
    "    # !! DEBUG\n",
    "    #print(\"t=\",t)\n",
    "    #for (j, point) in enumerate(points):\n",
    "    #    print(\"aprox\", u_sol.eval(point, cells[j]))\n",
    "    #    print(\"aprox2\", u_prev.eval(point, cells[j]))\n",
    "    #    print(\"inter\", u_sol_analytic.eval(point, cells[j]))\n",
    "    #    print(\"exact\", u_analytic(*point,t).flatten())\n",
    "    #    print(\"error\", np.sum(u_sol.eval(point, cells[j]) -u_analytic(*point,t).flatten()))\n",
    "    # !! DEBUG\n",
    "    \n",
    "    error_abs_integral = fem.form(inner(u_sol_analytic - solver.u_sol, u_sol_analytic - solver.u_sol) * dx)\n",
    "    error_abs = np.sqrt(solver.domain.comm.allreduce(assemble_scalar(error_abs_integral), op=MPI.SUM))\n",
    "    norm_u_analytic_integral = fem.form(inner(u_sol_analytic, u_sol_analytic) * dx)\n",
    "    norm_u_analytic = np.sqrt(solver.domain.comm.allreduce(assemble_scalar(norm_u_analytic_integral), op=MPI.SUM))\n",
    "    error = error_abs / norm_u_analytic\n",
    "\n",
    "    if error_log:\n",
    "        error_log.write('t = %.3f: error = %.3g' % (t, error) + \"\\n\")\n",
    "\n",
    "u_file.close()\n",
    "p_file.close()\n",
    "if progress:\n",
    "    progress.close()\n",
    "if error_log:\n",
    "    error_log.close()"
   ]
  },
  {
   "cell_type": "code",
   "execution_count": null,
   "id": "b0c71ec4-2629-48ee-b400-7049347615d2",
   "metadata": {},
   "outputs": [],
   "source": []
  }
 ],
 "metadata": {
  "kernelspec": {
   "display_name": "Python 3 (ipykernel)",
   "language": "python",
   "name": "python3"
  },
  "language_info": {
   "codemirror_mode": {
    "name": "ipython",
    "version": 3
   },
   "file_extension": ".py",
   "mimetype": "text/x-python",
   "name": "python",
   "nbconvert_exporter": "python",
   "pygments_lexer": "ipython3",
   "version": "3.12.3"
  }
 },
 "nbformat": 4,
 "nbformat_minor": 5
}

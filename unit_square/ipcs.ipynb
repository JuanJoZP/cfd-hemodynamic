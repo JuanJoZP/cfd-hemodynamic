{
 "cells": [
  {
   "cell_type": "markdown",
   "id": "b65e9de2-2108-473d-baf6-d8685653b9d5",
   "metadata": {},
   "source": [
    "# Poisellieu flow"
   ]
  },
  {
   "cell_type": "code",
   "execution_count": 1,
   "id": "5305a145-22cd-4243-8d8a-a782af7166e7",
   "metadata": {},
   "outputs": [],
   "source": [
    "from dolfinx import mesh, fem, io\n",
    "import ufl\n",
    "from mpi4py import MPI\n",
    "from petsc4py import PETSc\n",
    "import numpy as np"
   ]
  },
  {
   "cell_type": "code",
   "execution_count": 2,
   "id": "1e59822a-35ec-4144-ace4-9fd8373bbae8",
   "metadata": {},
   "outputs": [],
   "source": [
    "T = 5\n",
    "num_steps = 1000\n",
    "n_cells = 32\n",
    "domain = mesh.create_unit_square(MPI.COMM_WORLD, n_cells, n_cells)\n",
    "\n",
    "f = (0, 0)\n",
    "dt = T/num_steps\n",
    "mu = 1\n",
    "rho = 1"
   ]
  },
  {
   "cell_type": "code",
   "execution_count": 3,
   "id": "03313700-081e-4fb4-a39d-f11c5f08c24a",
   "metadata": {},
   "outputs": [],
   "source": [
    "import sys\n",
    "import os\n",
    "sys.path.append(os.path.dirname(os.getcwd()))\n",
    "from solver1 import SolverIPCS\n",
    "\n",
    "def initial_velocity(x):\n",
    "    values = np.zeros((domain.geometry.dim, x.shape[1]), dtype=PETSc.ScalarType)\n",
    "    values[1] = 10\n",
    "    return values\n",
    "\n",
    "solver = SolverIPCS(domain, dt, rho, mu, f, initial_velocity)"
   ]
  },
  {
   "cell_type": "code",
   "execution_count": 4,
   "id": "f805378e-fb08-4131-b56f-2fd653e9f7b1",
   "metadata": {},
   "outputs": [],
   "source": [
    "# bounda\n",
    "def inflow(x):\n",
    "    return np.isclose(x[0], 0)\n",
    "\n",
    "def outflow(x):\n",
    "    return np.isclose(x[0], 1)\n",
    "\n",
    "def walls(x):\n",
    "    return np.logical_or(\n",
    "        np.isclose(x[1], 0), np.isclose(x[1], 1)\n",
    "   )\n",
    "\n",
    "fdim = domain.topology.dim - 1\n",
    "inflow_facets = mesh.locate_entities_boundary(domain, fdim, inflow)\n",
    "dofs_inflow = fem.locate_dofs_topological(solver.pressure_space, fdim, inflow_facets)\n",
    "bc_inflow  = fem.dirichletbc(fem.Constant(domain, PETSc.ScalarType(8)), dofs_inflow, solver.pressure_space)\n",
    "\n",
    "outflow_facets = mesh.locate_entities_boundary(domain, fdim, outflow)\n",
    "dofs_outflow = fem.locate_dofs_topological(solver.pressure_space, fdim, outflow_facets)\n",
    "bc_outflow  = fem.dirichletbc(fem.Constant(domain, PETSc.ScalarType(0)), dofs_outflow, solver.pressure_space)\n",
    "bc_p = [bc_inflow, bc_outflow]\n",
    "\n",
    "walls_facets = mesh.locate_entities_boundary(domain, fdim, walls)\n",
    "dofs_walls = fem.locate_dofs_topological(solver.velocity_space, fdim, walls_facets)\n",
    "bc_noslip  = fem.dirichletbc(fem.Constant(domain, PETSc.ScalarType((0, 0))), dofs_walls, solver.velocity_space)\n",
    "bc_u = [bc_noslip]"
   ]
  },
  {
   "cell_type": "code",
   "execution_count": 5,
   "id": "5d96078a-f98c-4cb8-9759-ee1b6f005a75",
   "metadata": {},
   "outputs": [],
   "source": [
    "solver.assembleTimeIndependent(bc_u, bc_p)"
   ]
  },
  {
   "cell_type": "code",
   "execution_count": null,
   "id": "5797193a-5b44-4caf-95cd-ffd9251b9aa7",
   "metadata": {},
   "outputs": [],
   "source": [
    "def get_tqdm():\n",
    "    try:\n",
    "        # Check if inside Jupyter notebook\n",
    "        from IPython import get_ipython\n",
    "        shell = get_ipython().__class__.__name__\n",
    "        if shell in [\"ZMQInteractiveShell\"]:\n",
    "            from tqdm.notebook import tqdm as notebook_tqdm\n",
    "            return notebook_tqdm\n",
    "    except:\n",
    "        pass\n",
    "    from tqdm import tqdm  # fallback for scripts\n",
    "    return tqdm"
   ]
  },
  {
   "cell_type": "code",
   "execution_count": 6,
   "id": "c99643df-be66-4459-8384-8d4dfff74b67",
   "metadata": {},
   "outputs": [
    {
     "data": {
      "application/vnd.jupyter.widget-view+json": {
       "model_id": "e2ca812c0ff84491a79d97255b19ea15",
       "version_major": 2,
       "version_minor": 0
      },
      "text/plain": [
       "Resolviendo navier-stokes:   0%|          | 0/1000 [00:00<?, ?it/s]"
      ]
     },
     "metadata": {},
     "output_type": "display_data"
    }
   ],
   "source": [
    "from dolfinx.fem import assemble_scalar\n",
    "from ufl import inner, dx\n",
    "from datetime import datetime, timezone, timedelta\n",
    "tqdm = get_tqdm()\n",
    "\n",
    "t = 0\n",
    "progress = tqdm(desc=\"Resolviendo navier-stokes\", total=num_steps) if domain.comm.rank == 0 else None\n",
    "error_log = open(f\"{folder}/error.txt\", \"w\") if domain.comm.rank == 0 else None\n",
    "folder = datetime.now(tz=timezone(-timedelta(hours=5))).isoformat(timespec='seconds') if domain.comm.rank == 0 else None\n",
    "folder = domain.comm.bcast(folder, root=0)\n",
    "u_file = io.VTXWriter(domain.comm, f\"{folder}/velocity.bp\", solver.u_sol)\n",
    "p_file = io.VTXWriter(domain.comm, f\"{folder}/pressure.bp\", solver.p_sol)\n",
    "u_file.write(t)\n",
    "p_file.write(t)\n",
    "\n",
    "u_e = fem.Function(solver.velocity_space)\n",
    "u_e.interpolate(lambda x: np.vstack((4.0*x[1]*(1.0 - x[1]), 0.0*x[0])))\n",
    "\n",
    "for i in range(num_steps):\n",
    "    if progress:\n",
    "        progress.update()\n",
    "        \n",
    "    solver.solveStep(bc_u, bc_p)\n",
    "    error_abs_integral = fem.form(inner(u_e - solver.u_sol, u_e - solver.u_sol) * dx)\n",
    "    error_abs = np.sqrt(solver.domain.comm.allreduce(assemble_scalar(error_abs_integral), op=MPI.SUM))\n",
    "    norm_u_e_integral = fem.form(inner(u_e, u_e) * dx)\n",
    "    norm_u_e = np.sqrt(solver.domain.comm.allreduce(assemble_scalar(norm_u_e_integral), op=MPI.SUM))\n",
    "    error = error_abs / norm_u_e\n",
    "\n",
    "    t += dt\n",
    "    if error_log:\n",
    "        error_log.write('t = %.2f: error = %.3g' % (t, error) + \"\\n\")\n",
    "    \n",
    "    u_file.write(t)\n",
    "    p_file.write(t)\n",
    "\n",
    "u_file.close()\n",
    "p_file.close()\n",
    "if error_log:\n",
    "    error_log.close()\n",
    "if progress:\n",
    "    progress.close()"
   ]
  },
  {
   "cell_type": "code",
   "execution_count": null,
   "id": "d201b489-9c52-462e-881d-0fb4c492bde5",
   "metadata": {},
   "outputs": [],
   "source": []
  }
 ],
 "metadata": {
  "kernelspec": {
   "display_name": "Python 3 (ipykernel)",
   "language": "python",
   "name": "python3"
  },
  "language_info": {
   "codemirror_mode": {
    "name": "ipython",
    "version": 3
   },
   "file_extension": ".py",
   "mimetype": "text/x-python",
   "name": "python",
   "nbconvert_exporter": "python",
   "pygments_lexer": "ipython3",
   "version": "3.12.3"
  }
 },
 "nbformat": 4,
 "nbformat_minor": 5
}

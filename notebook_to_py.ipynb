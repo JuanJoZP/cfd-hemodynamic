{
 "cells": [
  {
   "cell_type": "code",
   "execution_count": 1,
   "id": "39a66f0d-a3de-4c00-9dca-cde660268742",
   "metadata": {},
   "outputs": [],
   "source": [
    "import nbformat\n",
    "from nbconvert import PythonExporter\n",
    "\n",
    "with open('volume_taylor_green/ipcs.ipynb') as f:\n",
    "    notebook_content = nbformat.read(f, as_version=4)\n",
    "\n",
    "python_exporter = PythonExporter()\n",
    "python_script, _ = python_exporter.from_notebook_node(notebook_content)\n",
    "\n",
    "with open('volume_taylor_green/ipcs.py', 'w') as f:\n",
    "    f.write(python_script)"
   ]
  },
  {
   "cell_type": "code",
   "execution_count": null,
   "id": "471e7df6-d798-40e0-9500-354dfaf321c3",
   "metadata": {},
   "outputs": [],
   "source": []
  }
 ],
 "metadata": {
  "kernelspec": {
   "display_name": "Python 3 (ipykernel)",
   "language": "python",
   "name": "python3"
  },
  "language_info": {
   "codemirror_mode": {
    "name": "ipython",
    "version": 3
   },
   "file_extension": ".py",
   "mimetype": "text/x-python",
   "name": "python",
   "nbconvert_exporter": "python",
   "pygments_lexer": "ipython3",
   "version": "3.12.3"
  }
 },
 "nbformat": 4,
 "nbformat_minor": 5
}

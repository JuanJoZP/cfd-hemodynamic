{
 "cells": [
  {
   "cell_type": "markdown",
   "id": "44f818d9-f9e3-41a6-8c71-0f74a1d4488d",
   "metadata": {},
   "source": [
    "# Lid Driven 2D Benchmark\n",
    "http://www.zetacomp.com/benchmarks/lid-driven-cavity-2d.asp\n",
    "\n",
    "This is a classic benchmark for incompressible Navier-Stokes solvers. The domain is a unit square box, comprising 3 no-slip walls (code 500), and the top \"wall\" moving with a unit horizontal velocity,no vertical component (code 503). The lid is non-leaky (at the top corner nodes, u=0,v=0 is prescribed). To determine the relative pressure field, a single prescibed value may be needed (semi-implicit only). In which case, P=0 is applied at node 1. This is a forced convection problem, covering a range of Reynolds numbers.\n",
    "\n",
    "The results for a simple non-uniform structured mesh are presented below. The results are compared to data from Ghia et al (1982) JCP 48:387-411. The horizontal velocity is plotted along the vertical mid-line, with the square datapoints from Ghia et al. Vertical and horizontal contour plots are also provided, along with streamtracer results using ParaView post-processing."
   ]
  },
  {
   "cell_type": "code",
   "execution_count": 1,
   "id": "6b942d71-bd01-4894-9143-a1a8a4003173",
   "metadata": {},
   "outputs": [],
   "source": [
    "from dolfinx import mesh, fem, io\n",
    "from mpi4py import MPI\n",
    "from petsc4py import PETSc\n",
    "import numpy as np"
   ]
  },
  {
   "cell_type": "code",
   "execution_count": 2,
   "id": "ba512d33-4d13-48d1-99e0-291efe34d33f",
   "metadata": {},
   "outputs": [],
   "source": [
    "T = 10 \n",
    "dt = 1/100\n",
    "num_steps = int(T/dt)\n",
    "domain = mesh.create_unit_square(MPI.COMM_WORLD, 50, 50) \n",
    "\n",
    "f = (0,0)\n",
    "mu = 1/1000 # Re = 1/mu (en este caso)\n",
    "re = 1000\n",
    "rho = 1"
   ]
  },
  {
   "cell_type": "markdown",
   "id": "9d6a9990-5fcd-4f9d-8fce-62b8b0d4086f",
   "metadata": {},
   "source": [
    "5000 celdas triangulares, como indica el benchmark"
   ]
  },
  {
   "cell_type": "code",
   "execution_count": 3,
   "id": "b85b37f0-4c8d-45e0-9eea-842f43e01468",
   "metadata": {},
   "outputs": [
    {
     "data": {
      "text/plain": [
       "(5000, 3)"
      ]
     },
     "execution_count": 3,
     "metadata": {},
     "output_type": "execute_result"
    }
   ],
   "source": [
    "domain.geometry.dofmap.shape"
   ]
  },
  {
   "cell_type": "code",
   "execution_count": 4,
   "id": "6b0b5c54-2672-4044-86f6-a5b26be5a24c",
   "metadata": {},
   "outputs": [],
   "source": [
    "import sys\n",
    "import os\n",
    "sys.path.append(os.path.dirname(os.getcwd()))\n",
    "from solver1 import SolverIPCS\n",
    "\n",
    "solver = SolverIPCS(domain, dt, rho, mu, f)"
   ]
  },
  {
   "cell_type": "code",
   "execution_count": 5,
   "id": "cab6835f-15ae-4094-b037-b30b057a2069",
   "metadata": {},
   "outputs": [],
   "source": [
    "# lid-driven cavity flow\n",
    "def lid(x):\n",
    "    return np.isclose(x[1], 1)\n",
    "\n",
    "def walls(x):\n",
    "    return np.logical_or.reduce((np.isclose(x[0], 0), np.isclose(x[0], 1), np.isclose(x[1], 0)))\n",
    "\n",
    "def corner(x):\n",
    "    return np.logical_and.reduce((np.isclose(x[0], 0), np.isclose(x[1], 0), np.isclose(x[2], 0)))\n",
    "\n",
    "\n",
    "fdim = domain.topology.dim - 1\n",
    "\n",
    "lid_facets = mesh.locate_entities_boundary(domain, fdim, lid)\n",
    "dofs_lid = fem.locate_dofs_topological(solver.velocity_space, fdim, lid_facets)\n",
    "bc_lid  = fem.dirichletbc(fem.Constant(domain, PETSc.ScalarType((1, 0))), dofs_lid, solver.velocity_space)\n",
    "\n",
    "walls_facets = mesh.locate_entities_boundary(domain, fdim, walls)\n",
    "dofs_walls = fem.locate_dofs_topological(solver.velocity_space, fdim, walls_facets)\n",
    "bc_walls = fem.dirichletbc(fem.Constant(domain, PETSc.ScalarType((0, 0))), dofs_walls, solver.velocity_space)\n",
    "\n",
    "corner_facets = mesh.locate_entities_boundary(domain, fdim, corner)\n",
    "dofs_corner = fem.locate_dofs_topological(solver.pressure_space, fdim, corner_facets)\n",
    "bc_p_fix = fem.dirichletbc(fem.Constant(domain, PETSc.ScalarType(0)), dofs_corner, solver.pressure_space)\n",
    "\n",
    "bc_u = [bc_lid, bc_walls]\n",
    "bc_p = [bc_p_fix]"
   ]
  },
  {
   "cell_type": "code",
   "execution_count": 6,
   "id": "5d16f7dd-2be0-4aa1-a5fc-cb80b341021a",
   "metadata": {},
   "outputs": [],
   "source": [
    "solver.assembleTimeIndependent(bc_u, bc_p)"
   ]
  },
  {
   "cell_type": "code",
   "execution_count": 7,
   "id": "c9505740-374d-4b52-bcee-27d2f30abce9",
   "metadata": {},
   "outputs": [],
   "source": [
    "def get_tqdm():\n",
    "    try:\n",
    "        # Check if inside Jupyter notebook\n",
    "        from IPython import get_ipython\n",
    "        shell = get_ipython().__class__.__name__\n",
    "        if shell in [\"ZMQInteractiveShell\"]:\n",
    "            from tqdm.notebook import tqdm as notebook_tqdm\n",
    "            return notebook_tqdm\n",
    "    except:\n",
    "        pass\n",
    "    from tqdm import tqdm  # fallback for scripts\n",
    "    return tqdm"
   ]
  },
  {
   "cell_type": "code",
   "execution_count": 8,
   "id": "5bd4aa95-0c1e-4a8e-a4b9-01db7ff71b81",
   "metadata": {},
   "outputs": [
    {
     "data": {
      "application/vnd.jupyter.widget-view+json": {
       "model_id": "9a6a599196ab40c0b076531a8b6d25a9",
       "version_major": 2,
       "version_minor": 0
      },
      "text/plain": [
       "Resolviendo navier-stokes:   0%|          | 0/1000 [00:00<?, ?it/s]"
      ]
     },
     "metadata": {},
     "output_type": "display_data"
    }
   ],
   "source": [
    "tqdm = get_tqdm()\n",
    "from datetime import datetime, timezone, timedelta\n",
    "\n",
    "t = 0\n",
    "progress = tqdm(desc=\"Resolviendo navier-stokes\", total=num_steps) if domain.comm.rank == 0 else None\n",
    "folder = datetime.now(tz=timezone(-timedelta(hours=5))).isoformat(timespec='seconds') if domain.comm.rank == 0 else None\n",
    "folder = domain.comm.bcast(folder, root=0)\n",
    "u_file = io.VTXWriter(domain.comm, f\"{re}re{folder}/velocity.bp\", solver.u_sol)\n",
    "p_file = io.VTXWriter(domain.comm, f\"{re}re{folder}/pressure.bp\", solver.p_sol)\n",
    "u_file.write(t)\n",
    "p_file.write(t)\n",
    "\n",
    "for n in range(num_steps):\n",
    "    solver.solveStep(bc_u, bc_p)\n",
    "    t += dt\n",
    "    u_file.write(t)\n",
    "    p_file.write(t)\n",
    "    \n",
    "    if progress:\n",
    "        progress.update()\n",
    "\n",
    "u_file.close()\n",
    "p_file.close()\n",
    "if progress:\n",
    "    progress.close()"
   ]
  },
  {
   "cell_type": "code",
   "execution_count": 9,
   "id": "deaa5190-ded0-4f47-8482-e6cdd5858b2d",
   "metadata": {},
   "outputs": [],
   "source": [
    "import pandas as pd\n",
    "\n",
    "data = pd.read_csv(f\"./benchmark/plot_u_y_Ghia{re}.csv\")\n",
    "points = np.column_stack((np.array((0.5,) * data[\"y\"].size, dtype=np.float64), data[\"y\"].to_numpy(), np.array((0,) * data[\"y\"].size, dtype=np.float64)))"
   ]
  },
  {
   "cell_type": "code",
   "execution_count": 10,
   "id": "398976f7-64c5-4953-aba6-9bda60f0f68d",
   "metadata": {},
   "outputs": [],
   "source": [
    "from dolfinx.geometry import bb_tree, compute_collisions_points, compute_colliding_cells\n",
    "\n",
    "tree = bb_tree(domain, domain.geometry.dim)\n",
    "cell_candidates = compute_collisions_points(tree, points)\n",
    "colliding_cells = compute_colliding_cells(domain, cell_candidates, points)"
   ]
  },
  {
   "cell_type": "code",
   "execution_count": 11,
   "id": "cf224dbe-6d36-48c9-a104-619913d54e28",
   "metadata": {},
   "outputs": [],
   "source": [
    "val_sol = np.array([])\n",
    "val_bench = np.array([])\n",
    "\n",
    "for (i, p) in enumerate(points):\n",
    "    val_sol = np.append(val_sol, solver.u_sol.eval(p, colliding_cells.links(i)[:1])[0])\n",
    "    val_bench = np.append(val_bench, data[\"u\"][i])"
   ]
  },
  {
   "cell_type": "code",
   "execution_count": 12,
   "id": "d5417acb-71c7-468c-9188-e1ea604606ef",
   "metadata": {},
   "outputs": [
    {
     "data": {
      "image/png": "[encoded data removed]",
      "text/plain": [
       "<Figure size 640x480 with 1 Axes>"
      ]
     },
     "metadata": {},
     "output_type": "display_data"
    }
   ],
   "source": [
    "from matplotlib import pyplot as plt\n",
    "\n",
    "plt.plot(val_sol, label=\"Del solver\")\n",
    "plt.plot(val_bench, label=\"Del benchmark\")\n",
    "plt.legend()\n",
    "plt.ylabel(\"componente x de la velocidad\")\n",
    "plt.xticks(np.arange(data[\"y\"].size), map(lambda x: round(x, 2),data[\"y\"].to_list()), rotation=30)\n",
    "plt.title(\"Componente x de la velocidad en x=0.5\")\n",
    "plt.show()"
   ]
  },
  {
   "cell_type": "code",
   "execution_count": null,
   "id": "f27a368a-7648-4138-bef1-5059d5b5078c",
   "metadata": {},
   "outputs": [],
   "source": []
  }
 ],
 "metadata": {
  "kernelspec": {
   "display_name": "Python 3 (ipykernel)",
   "language": "python",
   "name": "python3"
  },
  "language_info": {
   "codemirror_mode": {
    "name": "ipython",
    "version": 3
   },
   "file_extension": ".py",
   "mimetype": "text/x-python",
   "name": "python",
   "nbconvert_exporter": "python",
   "pygments_lexer": "ipython3",
   "version": "3.12.3"
  }
 },
 "nbformat": 4,
 "nbformat_minor": 5
}

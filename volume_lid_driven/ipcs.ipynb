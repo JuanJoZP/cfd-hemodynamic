{
 "cells": [
  {
   "cell_type": "code",
   "execution_count": 1,
   "id": "5305a145-22cd-4243-8d8a-a782af7166e7",
   "metadata": {},
   "outputs": [],
   "source": [
    "from dolfinx import mesh, fem, io\n",
    "import ufl\n",
    "from mpi4py import MPI\n",
    "from petsc4py import PETSc\n",
    "import numpy as np"
   ]
  },
  {
   "cell_type": "code",
   "execution_count": 2,
   "id": "42488905-750f-4347-980a-71fed56b6b67",
   "metadata": {},
   "outputs": [],
   "source": [
    "T = 1 \n",
    "num_steps = 100\n",
    "n_cells = 32\n",
    "domain = mesh.create_unit_cube(MPI.COMM_WORLD, n_cells, n_cells, n_cells) \n",
    "\n",
    "f = (0,0,0)\n",
    "dt = T/num_steps\n",
    "mu = 1/50 # Re = 50\n",
    "rho = 1"
   ]
  },
  {
   "cell_type": "code",
   "execution_count": 3,
   "id": "14e131e7-b38f-490f-b262-e0f80135ea32",
   "metadata": {},
   "outputs": [],
   "source": [
    "import sys\n",
    "import os\n",
    "sys.path.append(os.path.dirname(os.getcwd()))\n",
    "from solver1 import SolverIPCS\n",
    "\n",
    "solver = SolverIPCS(domain, dt, rho, mu, f)"
   ]
  },
  {
   "cell_type": "code",
   "execution_count": 4,
   "id": "d3d790de-8211-44a2-a25c-14a2bcbdde43",
   "metadata": {},
   "outputs": [],
   "source": [
    "# lid-driven cavity flow\n",
    "def lid(x):\n",
    "    return np.isclose(x[2], 1)\n",
    "\n",
    "def walls(x):\n",
    "    return np.logical_or.reduce((np.isclose(x[2], 0), np.isclose(x[0], 0), np.isclose(x[0], 1), np.isclose(x[1], 0), np.isclose(x[1], 1)))\n",
    "\n",
    "def corner(x):\n",
    "    return np.logical_and.reduce((np.isclose(x[0], 0), np.isclose(x[1], 0), np.isclose(x[2], 0)))\n",
    "\n",
    "\n",
    "fdim = domain.topology.dim - 1\n",
    "\n",
    "lid_facets = mesh.locate_entities_boundary(domain, fdim, lid)\n",
    "dofs_lid = fem.locate_dofs_topological(solver.velocity_space, fdim, lid_facets)\n",
    "bc_lid  = fem.dirichletbc(fem.Constant(domain, PETSc.ScalarType((1, 0, 0))), dofs_lid, solver.velocity_space)\n",
    "\n",
    "cavity_facets = mesh.locate_entities_boundary(domain, fdim, walls)\n",
    "dofs_cavity = fem.locate_dofs_topological(solver.velocity_space, fdim, cavity_facets)\n",
    "bc_cavity  = fem.dirichletbc(fem.Constant(domain, PETSc.ScalarType((0, 0, 0))), dofs_cavity, solver.velocity_space)\n",
    "\n",
    "corner_facets = mesh.locate_entities_boundary(domain, fdim, corner)\n",
    "dofs_corner = fem.locate_dofs_topological(solver.pressure_space, fdim, corner_facets)\n",
    "bc_p_fix = fem.dirichletbc(fem.Constant(domain, PETSc.ScalarType(0)), dofs_corner, solver.pressure_space)\n",
    "\n",
    "bc_u = [bc_lid, bc_cavity]\n",
    "bc_p = [bc_p_fix]"
   ]
  },
  {
   "cell_type": "code",
   "execution_count": 5,
   "id": "054a09b4-8115-4fb0-9d89-0ae6141d709a",
   "metadata": {},
   "outputs": [],
   "source": [
    "solver.assembleTimeIndependent(bc_u, bc_p)"
   ]
  },
  {
   "cell_type": "code",
   "execution_count": null,
   "id": "1bc6e39a-2719-4bc9-99e2-d8887f2e5c73",
   "metadata": {},
   "outputs": [],
   "source": [
    "def get_tqdm():\n",
    "    try:\n",
    "        # Check if inside Jupyter notebook\n",
    "        from IPython import get_ipython\n",
    "        shell = get_ipython().__class__.__name__\n",
    "        if shell in [\"ZMQInteractiveShell\"]:\n",
    "            from tqdm.notebook import tqdm as notebook_tqdm\n",
    "            return notebook_tqdm\n",
    "    except:\n",
    "        pass\n",
    "    from tqdm import tqdm  # fallback for scripts\n",
    "    return tqdm"
   ]
  },
  {
   "cell_type": "code",
   "execution_count": 6,
   "id": "c99643df-be66-4459-8384-8d4dfff74b67",
   "metadata": {},
   "outputs": [
    {
     "data": {
      "application/vnd.jupyter.widget-view+json": {
       "model_id": "e980439bcf534811b2433ba813b35278",
       "version_major": 2,
       "version_minor": 0
      },
      "text/plain": [
       "Resolviendo navier-stokes:   0%|          | 0/100 [00:00<?, ?it/s]"
      ]
     },
     "metadata": {},
     "output_type": "display_data"
    },
    {
     "name": "stderr",
     "output_type": "stream",
     "text": [
      "IOStream.flush timed out\n",
      "IOStream.flush timed out\n",
      "IOStream.flush timed out\n",
      "IOStream.flush timed out\n",
      "IOStream.flush timed out\n",
      "IOStream.flush timed out\n",
      "IOStream.flush timed out\n",
      "IOStream.flush timed out\n",
      "IOStream.flush timed out\n",
      "IOStream.flush timed out\n",
      "IOStream.flush timed out\n",
      "IOStream.flush timed out\n"
     ]
    }
   ],
   "source": [
    "tqdm = get_tqdm()\n",
    "from datetime import datetime, timezone, timedelta\n",
    "\n",
    "t = 0\n",
    "progress = tqdm(desc=\"Resolviendo navier-stokes\", total=num_steps) if domain.comm.rank == 0 else None\n",
    "folder = datetime.now(tz=timezone(-timedelta(hours=5))).isoformat(timespec='seconds') if domain.comm.rank == 0 else None\n",
    "folder = domain.comm.bcast(folder, root=0)\n",
    "u_file = io.VTXWriter(domain.comm, f\"{folder}/velocity.bp\", solver.u_sol)\n",
    "p_file = io.VTXWriter(domain.comm, f\"{folder}/pressure.bp\", solver.p_sol)\n",
    "u_file.write(t)\n",
    "p_file.write(t)\n",
    "\n",
    "for n in range(num_steps):\n",
    "    solver.solveStep(bc_u, bc_p)\n",
    "    t += dt\n",
    "    u_file.write(t)\n",
    "    p_file.write(t)\n",
    "    \n",
    "    if progress:\n",
    "        progress.update()\n",
    "\n",
    "u_file.close()\n",
    "p_file.close()\n",
    "if progress:\n",
    "    progress.close()"
   ]
  }
 ],
 "metadata": {
  "kernelspec": {
   "display_name": "Python 3 (ipykernel)",
   "language": "python",
   "name": "python3"
  },
  "language_info": {
   "codemirror_mode": {
    "name": "ipython",
    "version": 3
   },
   "file_extension": ".py",
   "mimetype": "text/x-python",
   "name": "python",
   "nbconvert_exporter": "python",
   "pygments_lexer": "ipython3",
   "version": "3.12.3"
  }
 },
 "nbformat": 4,
 "nbformat_minor": 5
}

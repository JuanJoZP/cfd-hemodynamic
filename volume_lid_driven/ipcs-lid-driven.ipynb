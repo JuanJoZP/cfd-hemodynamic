{
 "cells": [
  {
   "cell_type": "code",
   "execution_count": 1,
   "id": "5305a145-22cd-4243-8d8a-a782af7166e7",
   "metadata": {},
   "outputs": [],
   "source": [
    "#https://jsdokken.com/dolfinx-tutorial/chapter2/navierstokes.html#variational-formulation\n",
    "\n",
    "from dolfinx import mesh, fem, io\n",
    "import ufl\n",
    "from mpi4py import MPI\n",
    "from petsc4py import PETSc\n",
    "import numpy as np\n",
    "\n",
    "T = 1 \n",
    "num_steps = 100\n",
    "n_cells = 32"
   ]
  },
  {
   "cell_type": "code",
   "execution_count": 2,
   "id": "665e992d-dc32-46e8-8620-869a06d7d48f",
   "metadata": {},
   "outputs": [],
   "source": [
    "domain = mesh.create_unit_cube(MPI.COMM_WORLD, n_cells, n_cells, n_cells)\n",
    "velocity_function_space = fem.functionspace(domain, (\"Lagrange\", 2, (3,))) \n",
    "pressure_function_space = fem.functionspace(domain, (\"Lagrange\", 1))"
   ]
  },
  {
   "cell_type": "code",
   "execution_count": 3,
   "id": "bc2a607e-af5d-4090-8156-a438f344a040",
   "metadata": {},
   "outputs": [],
   "source": [
    "f = fem.Constant(domain, PETSc.ScalarType((0,0,0)))\n",
    "dt = fem.Constant(domain, T/num_steps)\n",
    "mu = fem.Constant(domain, PETSc.ScalarType(1/50)) # Re = 50\n",
    "rho = fem.Constant(domain, PETSc.ScalarType(1))"
   ]
  },
  {
   "cell_type": "code",
   "execution_count": 4,
   "id": "14e131e7-b38f-490f-b262-e0f80135ea32",
   "metadata": {},
   "outputs": [],
   "source": [
    "u = ufl.TrialFunction(velocity_function_space)\n",
    "p = ufl.TrialFunction(pressure_function_space)\n",
    "\n",
    "v = ufl.TestFunction(velocity_function_space)\n",
    "q = ufl.TestFunction(pressure_function_space)\n",
    "\n",
    "u_sol = fem.Function(velocity_function_space) # function to store u solved\n",
    "u_prev = fem.Function(velocity_function_space) # u from previous time step\n",
    "p_sol = fem.Function(pressure_function_space) \n",
    "p_prev = fem.Function(pressure_function_space)"
   ]
  },
  {
   "cell_type": "code",
   "execution_count": 5,
   "id": "d3d790de-8211-44a2-a25c-14a2bcbdde43",
   "metadata": {},
   "outputs": [],
   "source": [
    "# lid-driven cavity flow\n",
    "def lid(x):\n",
    "    return np.isclose(x[2], 1)\n",
    "\n",
    "def walls(x):\n",
    "    return np.logical_or.reduce((np.isclose(x[2], 0), np.isclose(x[0], 0), np.isclose(x[0], 1), np.isclose(x[1], 0), np.isclose(x[1], 1)))\n",
    "\n",
    "def corner(x):\n",
    "    return np.logical_and.reduce((np.isclose(x[0], 0), np.isclose(x[1], 0), np.isclose(x[2], 0)))\n",
    "\n",
    "\n",
    "fdim = domain.topology.dim - 1\n",
    "\n",
    "lid_facets = mesh.locate_entities_boundary(domain, fdim, lid)\n",
    "dofs_lid = fem.locate_dofs_topological(velocity_function_space, fdim, lid_facets)\n",
    "bc_lid  = fem.dirichletbc(fem.Constant(domain, PETSc.ScalarType((1, 0, 0))), dofs_lid, velocity_function_space)\n",
    "\n",
    "cavity_facets = mesh.locate_entities_boundary(domain, fdim, walls)\n",
    "dofs_cavity = fem.locate_dofs_topological(velocity_function_space, fdim, cavity_facets)\n",
    "bc_cavity  = fem.dirichletbc(fem.Constant(domain, PETSc.ScalarType((0, 0, 0))), dofs_cavity, velocity_function_space)\n",
    "\n",
    "corner_facets = mesh.locate_entities_boundary(domain, fdim, corner)\n",
    "dofs_corner = fem.locate_dofs_topological(pressure_function_space, fdim, corner_facets)\n",
    "bc_p_fix = fem.dirichletbc(fem.Constant(domain, PETSc.ScalarType(0)), dofs_corner, pressure_function_space)\n",
    "\n",
    "bc_u = [bc_lid, bc_cavity]\n",
    "bc_p = [bc_p_fix]"
   ]
  },
  {
   "cell_type": "code",
   "execution_count": 6,
   "id": "07068291-e306-406d-b5cd-0b4c44b8eab9",
   "metadata": {},
   "outputs": [],
   "source": [
    "from ufl import FacetNormal, dx, ds, dot, inner, sym, nabla_grad, Identity, lhs, rhs, div\n",
    "\n",
    "u_midpoint = 0.5*(u_prev + u)\n",
    "n = FacetNormal(domain)\n",
    "\n",
    "def epsilon(u):\n",
    "    return sym(nabla_grad(u))\n",
    "\n",
    "def sigma(u, p):\n",
    "    return 2*mu*epsilon(u) - p*Identity(len(u))\n",
    "\n",
    "# step 1\n",
    "form1 = rho*dot((u - u_prev) / dt, v)*dx \\\n",
    "      + rho*dot(dot(u_prev, nabla_grad(u_prev)), v)*dx \\\n",
    "      + inner(sigma(u_midpoint, p_prev), epsilon(v))*dx \\\n",
    "      + dot(p_prev*n, v)*ds - dot(mu*nabla_grad(u_midpoint)*n, v)*ds \\\n",
    "      - dot(f, v)*dx\n",
    "bilinear1 = lhs(form1)\n",
    "linear1 = rhs(form1)\n",
    "\n",
    "# step 2\n",
    "form2 = dot(nabla_grad(p), nabla_grad(q))*dx \\\n",
    "      - dot(nabla_grad(p_prev), nabla_grad(q))*dx \\\n",
    "      + (rho/dt)*div(u_sol)*q*dx\n",
    "bilinear2 = lhs(form2)\n",
    "linear2 = rhs(form2)\n",
    "\n",
    "# step 3\n",
    "form3 = rho*dot((u - u_sol), v)*dx \\\n",
    "      + dt*dot(nabla_grad(p_sol - p_prev), v)*dx\n",
    "bilinear3 = lhs(form3)\n",
    "linear3 = rhs(form3)"
   ]
  },
  {
   "cell_type": "code",
   "execution_count": 7,
   "id": "c99643df-be66-4459-8384-8d4dfff74b67",
   "metadata": {},
   "outputs": [
    {
     "data": {
      "application/vnd.jupyter.widget-view+json": {
       "model_id": "2736c5f4033b425cb61b995d462cd5a8",
       "version_major": 2,
       "version_minor": 0
      },
      "text/plain": [
       "Resolviendo navier-stokes:   0%|          | 0/100 [00:00<?, ?it/s]"
      ]
     },
     "metadata": {},
     "output_type": "display_data"
    }
   ],
   "source": [
    "from dolfinx.fem.petsc import LinearProblem\n",
    "from tqdm.notebook import tqdm\n",
    "\n",
    "t = 0\n",
    "u_file = io.VTXWriter(domain.comm, \"volume/u18_03.bp\", u_sol)\n",
    "p_file = io.VTXWriter(domain.comm, \"volume/p18_03.bp\", p_sol)\n",
    "u_file.write(t)\n",
    "p_file.write(t)\n",
    "\n",
    "progress = tqdm(desc=\"Resolviendo navier-stokes\", total=num_steps)\n",
    "\n",
    "for n in range(num_steps):\n",
    "    progress.update()\n",
    "    t += dt\n",
    "    \n",
    "    problem1 = LinearProblem(bilinear1, linear1, bc_u, u_sol)\n",
    "    problem1.solve()\n",
    "\n",
    "    problem2 = LinearProblem(bilinear2, linear2, bc_p, p_sol)\n",
    "    problem2.solve()\n",
    "\n",
    "    problem3 = LinearProblem(bilinear3, linear3, bc_u, u_sol)\n",
    "    problem3.solve()\n",
    "\n",
    "    u_file.write(t)\n",
    "    p_file.write(t)\n",
    "\n",
    "    u_prev.x.array[:] = u_sol.x.array\n",
    "    p_prev.x.array[:] = p_sol.x.array"
   ]
  }
 ],
 "metadata": {
  "kernelspec": {
   "display_name": "Python 3 (ipykernel)",
   "language": "python",
   "name": "python3"
  },
  "language_info": {
   "codemirror_mode": {
    "name": "ipython",
    "version": 3
   },
   "file_extension": ".py",
   "mimetype": "text/x-python",
   "name": "python",
   "nbconvert_exporter": "python",
   "pygments_lexer": "ipython3",
   "version": "3.12.3"
  }
 },
 "nbformat": 4,
 "nbformat_minor": 5
}
